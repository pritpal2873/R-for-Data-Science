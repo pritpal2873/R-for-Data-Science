{
 "cells": [
  {
   "cell_type": "markdown",
   "id": "030d0ec3",
   "metadata": {},
   "source": [
    "**The simple graph has brought more information to the data analyst's mind than any other device.**\n",
    "                                        ... John Tukey"
   ]
  },
  {
   "cell_type": "markdown",
   "id": "3f536ff9",
   "metadata": {},
   "source": [
    "R has several systems for making graphs, but ggplot2 is one of the most elegant and most verstalie. ggplot2 implements the grammer of graphics, a coherent sustem for describing an dbuilding graphs. With ggplot2, we can do more faster by learning one system and applying it in many places. "
   ]
  },
  {
   "cell_type": "code",
   "execution_count": null,
   "id": "240a136e",
   "metadata": {},
   "outputs": [],
   "source": []
  }
 ],
 "metadata": {
  "kernelspec": {
   "display_name": "Python 3 (ipykernel)",
   "language": "python",
   "name": "python3"
  },
  "language_info": {
   "codemirror_mode": {
    "name": "ipython",
    "version": 3
   },
   "file_extension": ".py",
   "mimetype": "text/x-python",
   "name": "python",
   "nbconvert_exporter": "python",
   "pygments_lexer": "ipython3",
   "version": "3.10.9"
  }
 },
 "nbformat": 4,
 "nbformat_minor": 5
}
